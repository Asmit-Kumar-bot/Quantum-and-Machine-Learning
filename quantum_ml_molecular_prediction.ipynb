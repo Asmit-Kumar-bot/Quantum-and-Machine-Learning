{
 "cells": [
  {
   "cell_type": "markdown",
   "id": "83eb2cef",
   "metadata": {},
   "source": [
    "__Importing important libraries__"
   ]
  },
  {
   "cell_type": "code",
   "execution_count": 1,
   "id": "f5c7723a",
   "metadata": {},
   "outputs": [
    {
     "name": "stdout",
     "output_type": "stream",
     "text": [
      "Required libraries imported successfully.\n"
     ]
    }
   ],
   "source": [
    "# Import necessary libraries\n",
    "import numpy as np\n",
    "from qiskit_algorithms import VQE\n",
    "from qiskit_algorithms.optimizers import COBYLA\n",
    "from qiskit.primitives import Estimator\n",
    "from qiskit.quantum_info import SparsePauliOp\n",
    "from qiskit.circuit.library import ZFeatureMap\n",
    "\n",
    "# For machine learning components\n",
    "from qiskit_machine_learning.algorithms import QSVC\n",
    "from qiskit_machine_learning.kernels import FidelityQuantumKernel as QuantumKernel\n",
    "from sklearn.model_selection import train_test_split\n",
    "from sklearn.preprocessing import StandardScaler\n",
    "from sklearn.metrics import accuracy_score\n",
    "from sklearn.svm import SVC\n",
    "from sklearn.ensemble import RandomForestClassifier\n",
    "\n",
    "print(\"Required libraries imported successfully.\")"
   ]
  },
  {
   "cell_type": "markdown",
   "id": "a7f59bb0",
   "metadata": {},
   "source": [
    " __VQE for Feature Generation (Molecular Ground State Energy)__"
   ]
  },
  {
   "cell_type": "code",
   "execution_count": 2,
   "id": "2f8227c4",
   "metadata": {},
   "outputs": [],
   "source": [
    "# --- 1. VQE for Feature Generation (Molecular Ground State Energy) ---\n",
    "\n",
    "def get_simplified_h2_qubit_hamiltonian(param_value):\n",
    "    \"\"\"Constructs a simplified effective H2 qubit Hamiltonian.\"\"\"\n",
    "    coeffs = [\n",
    "        0.5,                  # II\n",
    "        -0.2 * param_value,   # IZ\n",
    "        0.3,                  # ZI\n",
    "        0.1 * param_value,    # ZZ\n",
    "        0.2                   # XX\n",
    "    ]\n",
    "    paulis = ['II', 'IZ', 'ZI', 'ZZ', 'XX']\n",
    "    return SparsePauliOp(paulis, coeffs)\n",
    "\n",
    "def run_vqe_for_molecule(qubit_op):\n",
    "    \"\"\"Runs VQE to find the ground state energy.\"\"\"\n",
    "    ansatz = ZFeatureMap(qubit_op.num_qubits, reps=1)\n",
    "    optimizer = COBYLA(maxiter=100)\n",
    "    vqe = VQE(Estimator(), ansatz, optimizer)\n",
    "    result = vqe.compute_minimum_eigenvalue(qubit_op)\n",
    "    return result.eigenvalue.real"
   ]
  },
  {
   "cell_type": "code",
   "execution_count": 3,
   "id": "4cd58b91",
   "metadata": {},
   "outputs": [
    {
     "name": "stdout",
     "output_type": "stream",
     "text": [
      "\n",
      "Generating dataset from VQE energies...\n"
     ]
    },
    {
     "name": "stderr",
     "output_type": "stream",
     "text": [
      "C:\\Users\\asmit\\AppData\\Local\\Temp\\ipykernel_7156\\2922919438.py:19: DeprecationWarning: The class ``qiskit.primitives.estimator.Estimator`` is deprecated as of qiskit 1.2. It will be removed no earlier than 3 months after the release date. All implementations of the `BaseEstimatorV1` interface have been deprecated in favor of their V2 counterparts. The V2 alternative for the `Estimator` class is `StatevectorEstimator`.\n",
      "  vqe = VQE(Estimator(), ansatz, optimizer)\n",
      "C:\\Users\\asmit\\AppData\\Local\\Temp\\ipykernel_7156\\2922919438.py:19: DeprecationWarning: The class ``qiskit.primitives.estimator.Estimator`` is deprecated as of qiskit 1.2. It will be removed no earlier than 3 months after the release date. All implementations of the `BaseEstimatorV1` interface have been deprecated in favor of their V2 counterparts. The V2 alternative for the `Estimator` class is `StatevectorEstimator`.\n",
      "  vqe = VQE(Estimator(), ansatz, optimizer)\n",
      "C:\\Users\\asmit\\AppData\\Local\\Temp\\ipykernel_7156\\2922919438.py:19: DeprecationWarning: The class ``qiskit.primitives.estimator.Estimator`` is deprecated as of qiskit 1.2. It will be removed no earlier than 3 months after the release date. All implementations of the `BaseEstimatorV1` interface have been deprecated in favor of their V2 counterparts. The V2 alternative for the `Estimator` class is `StatevectorEstimator`.\n",
      "  vqe = VQE(Estimator(), ansatz, optimizer)\n",
      "C:\\Users\\asmit\\AppData\\Local\\Temp\\ipykernel_7156\\2922919438.py:19: DeprecationWarning: The class ``qiskit.primitives.estimator.Estimator`` is deprecated as of qiskit 1.2. It will be removed no earlier than 3 months after the release date. All implementations of the `BaseEstimatorV1` interface have been deprecated in favor of their V2 counterparts. The V2 alternative for the `Estimator` class is `StatevectorEstimator`.\n",
      "  vqe = VQE(Estimator(), ansatz, optimizer)\n",
      "C:\\Users\\asmit\\AppData\\Local\\Temp\\ipykernel_7156\\2922919438.py:19: DeprecationWarning: The class ``qiskit.primitives.estimator.Estimator`` is deprecated as of qiskit 1.2. It will be removed no earlier than 3 months after the release date. All implementations of the `BaseEstimatorV1` interface have been deprecated in favor of their V2 counterparts. The V2 alternative for the `Estimator` class is `StatevectorEstimator`.\n",
      "  vqe = VQE(Estimator(), ansatz, optimizer)\n",
      "C:\\Users\\asmit\\AppData\\Local\\Temp\\ipykernel_7156\\2922919438.py:19: DeprecationWarning: The class ``qiskit.primitives.estimator.Estimator`` is deprecated as of qiskit 1.2. It will be removed no earlier than 3 months after the release date. All implementations of the `BaseEstimatorV1` interface have been deprecated in favor of their V2 counterparts. The V2 alternative for the `Estimator` class is `StatevectorEstimator`.\n",
      "  vqe = VQE(Estimator(), ansatz, optimizer)\n",
      "C:\\Users\\asmit\\AppData\\Local\\Temp\\ipykernel_7156\\2922919438.py:19: DeprecationWarning: The class ``qiskit.primitives.estimator.Estimator`` is deprecated as of qiskit 1.2. It will be removed no earlier than 3 months after the release date. All implementations of the `BaseEstimatorV1` interface have been deprecated in favor of their V2 counterparts. The V2 alternative for the `Estimator` class is `StatevectorEstimator`.\n",
      "  vqe = VQE(Estimator(), ansatz, optimizer)\n",
      "C:\\Users\\asmit\\AppData\\Local\\Temp\\ipykernel_7156\\2922919438.py:19: DeprecationWarning: The class ``qiskit.primitives.estimator.Estimator`` is deprecated as of qiskit 1.2. It will be removed no earlier than 3 months after the release date. All implementations of the `BaseEstimatorV1` interface have been deprecated in favor of their V2 counterparts. The V2 alternative for the `Estimator` class is `StatevectorEstimator`.\n",
      "  vqe = VQE(Estimator(), ansatz, optimizer)\n",
      "C:\\Users\\asmit\\AppData\\Local\\Temp\\ipykernel_7156\\2922919438.py:19: DeprecationWarning: The class ``qiskit.primitives.estimator.Estimator`` is deprecated as of qiskit 1.2. It will be removed no earlier than 3 months after the release date. All implementations of the `BaseEstimatorV1` interface have been deprecated in favor of their V2 counterparts. The V2 alternative for the `Estimator` class is `StatevectorEstimator`.\n",
      "  vqe = VQE(Estimator(), ansatz, optimizer)\n",
      "C:\\Users\\asmit\\AppData\\Local\\Temp\\ipykernel_7156\\2922919438.py:19: DeprecationWarning: The class ``qiskit.primitives.estimator.Estimator`` is deprecated as of qiskit 1.2. It will be removed no earlier than 3 months after the release date. All implementations of the `BaseEstimatorV1` interface have been deprecated in favor of their V2 counterparts. The V2 alternative for the `Estimator` class is `StatevectorEstimator`.\n",
      "  vqe = VQE(Estimator(), ansatz, optimizer)\n",
      "C:\\Users\\asmit\\AppData\\Local\\Temp\\ipykernel_7156\\2922919438.py:19: DeprecationWarning: The class ``qiskit.primitives.estimator.Estimator`` is deprecated as of qiskit 1.2. It will be removed no earlier than 3 months after the release date. All implementations of the `BaseEstimatorV1` interface have been deprecated in favor of their V2 counterparts. The V2 alternative for the `Estimator` class is `StatevectorEstimator`.\n",
      "  vqe = VQE(Estimator(), ansatz, optimizer)\n",
      "C:\\Users\\asmit\\AppData\\Local\\Temp\\ipykernel_7156\\2922919438.py:19: DeprecationWarning: The class ``qiskit.primitives.estimator.Estimator`` is deprecated as of qiskit 1.2. It will be removed no earlier than 3 months after the release date. All implementations of the `BaseEstimatorV1` interface have been deprecated in favor of their V2 counterparts. The V2 alternative for the `Estimator` class is `StatevectorEstimator`.\n",
      "  vqe = VQE(Estimator(), ansatz, optimizer)\n",
      "C:\\Users\\asmit\\AppData\\Local\\Temp\\ipykernel_7156\\2922919438.py:19: DeprecationWarning: The class ``qiskit.primitives.estimator.Estimator`` is deprecated as of qiskit 1.2. It will be removed no earlier than 3 months after the release date. All implementations of the `BaseEstimatorV1` interface have been deprecated in favor of their V2 counterparts. The V2 alternative for the `Estimator` class is `StatevectorEstimator`.\n",
      "  vqe = VQE(Estimator(), ansatz, optimizer)\n",
      "C:\\Users\\asmit\\AppData\\Local\\Temp\\ipykernel_7156\\2922919438.py:19: DeprecationWarning: The class ``qiskit.primitives.estimator.Estimator`` is deprecated as of qiskit 1.2. It will be removed no earlier than 3 months after the release date. All implementations of the `BaseEstimatorV1` interface have been deprecated in favor of their V2 counterparts. The V2 alternative for the `Estimator` class is `StatevectorEstimator`.\n",
      "  vqe = VQE(Estimator(), ansatz, optimizer)\n",
      "C:\\Users\\asmit\\AppData\\Local\\Temp\\ipykernel_7156\\2922919438.py:19: DeprecationWarning: The class ``qiskit.primitives.estimator.Estimator`` is deprecated as of qiskit 1.2. It will be removed no earlier than 3 months after the release date. All implementations of the `BaseEstimatorV1` interface have been deprecated in favor of their V2 counterparts. The V2 alternative for the `Estimator` class is `StatevectorEstimator`.\n",
      "  vqe = VQE(Estimator(), ansatz, optimizer)\n",
      "C:\\Users\\asmit\\AppData\\Local\\Temp\\ipykernel_7156\\2922919438.py:19: DeprecationWarning: The class ``qiskit.primitives.estimator.Estimator`` is deprecated as of qiskit 1.2. It will be removed no earlier than 3 months after the release date. All implementations of the `BaseEstimatorV1` interface have been deprecated in favor of their V2 counterparts. The V2 alternative for the `Estimator` class is `StatevectorEstimator`.\n",
      "  vqe = VQE(Estimator(), ansatz, optimizer)\n",
      "C:\\Users\\asmit\\AppData\\Local\\Temp\\ipykernel_7156\\2922919438.py:19: DeprecationWarning: The class ``qiskit.primitives.estimator.Estimator`` is deprecated as of qiskit 1.2. It will be removed no earlier than 3 months after the release date. All implementations of the `BaseEstimatorV1` interface have been deprecated in favor of their V2 counterparts. The V2 alternative for the `Estimator` class is `StatevectorEstimator`.\n",
      "  vqe = VQE(Estimator(), ansatz, optimizer)\n",
      "C:\\Users\\asmit\\AppData\\Local\\Temp\\ipykernel_7156\\2922919438.py:19: DeprecationWarning: The class ``qiskit.primitives.estimator.Estimator`` is deprecated as of qiskit 1.2. It will be removed no earlier than 3 months after the release date. All implementations of the `BaseEstimatorV1` interface have been deprecated in favor of their V2 counterparts. The V2 alternative for the `Estimator` class is `StatevectorEstimator`.\n",
      "  vqe = VQE(Estimator(), ansatz, optimizer)\n",
      "C:\\Users\\asmit\\AppData\\Local\\Temp\\ipykernel_7156\\2922919438.py:19: DeprecationWarning: The class ``qiskit.primitives.estimator.Estimator`` is deprecated as of qiskit 1.2. It will be removed no earlier than 3 months after the release date. All implementations of the `BaseEstimatorV1` interface have been deprecated in favor of their V2 counterparts. The V2 alternative for the `Estimator` class is `StatevectorEstimator`.\n",
      "  vqe = VQE(Estimator(), ansatz, optimizer)\n",
      "C:\\Users\\asmit\\AppData\\Local\\Temp\\ipykernel_7156\\2922919438.py:19: DeprecationWarning: The class ``qiskit.primitives.estimator.Estimator`` is deprecated as of qiskit 1.2. It will be removed no earlier than 3 months after the release date. All implementations of the `BaseEstimatorV1` interface have been deprecated in favor of their V2 counterparts. The V2 alternative for the `Estimator` class is `StatevectorEstimator`.\n",
      "  vqe = VQE(Estimator(), ansatz, optimizer)\n"
     ]
    }
   ],
   "source": [
    "# --- 2. Create Dataset ---\n",
    "param_values_class0 = np.linspace(0.8, 1.0, 10)\n",
    "param_values_class1 = np.linspace(1.2, 1.4, 10)\n",
    "\n",
    "features, labels = [], []\n",
    "print(\"\\nGenerating dataset from VQE energies...\")\n",
    "\n",
    "for param_val in param_values_class0:\n",
    "    qubit_op = get_simplified_h2_qubit_hamiltonian(param_val)\n",
    "    energy = run_vqe_for_molecule(qubit_op)\n",
    "    features.append([energy])\n",
    "    labels.append(0)\n",
    "\n",
    "for param_val in param_values_class1:\n",
    "    qubit_op = get_simplified_h2_qubit_hamiltonian(param_val)\n",
    "    energy = run_vqe_for_molecule(qubit_op)\n",
    "    features.append([energy])\n",
    "    labels.append(1)\n",
    "\n",
    "X = np.array(features)\n",
    "y = np.array(labels)\n"
   ]
  },
  {
   "cell_type": "markdown",
   "id": "6adecbab",
   "metadata": {},
   "source": [
    "__Preparing Data__"
   ]
  },
  {
   "cell_type": "code",
   "execution_count": 4,
   "id": "ddcfb051",
   "metadata": {},
   "outputs": [],
   "source": [
    "# --- 3. Prepare Data ---\n",
    "X_train, X_test, y_train, y_test = train_test_split(X, y, test_size=0.3, random_state=42, stratify=y)\n",
    "scaler = StandardScaler()\n",
    "X_train_scaled = scaler.fit_transform(X_train)\n",
    "X_test_scaled = scaler.transform(X_test)"
   ]
  },
  {
   "cell_type": "markdown",
   "id": "c439f1bd",
   "metadata": {},
   "source": [
    "__Model Tranning__"
   ]
  },
  {
   "cell_type": "markdown",
   "id": "b3a72007",
   "metadata": {},
   "source": [
    "1. Quantum Models: QSVC"
   ]
  },
  {
   "cell_type": "code",
   "execution_count": 5,
   "id": "a5d30dbc",
   "metadata": {},
   "outputs": [
    {
     "name": "stdout",
     "output_type": "stream",
     "text": [
      "\n",
      "--- Training Quantum SVM (QSVC) ---\n",
      "QSVC Accuracy: 66.67%\n"
     ]
    }
   ],
   "source": [
    "# --- 4. Quantum Models: QSVC ---\n",
    "print(\"\\n--- Training Quantum SVM (QSVC) ---\")\n",
    "feature_map = ZFeatureMap(feature_dimension=X_train_scaled.shape[1], reps=2)\n",
    "kernel = QuantumKernel(feature_map=feature_map)\n",
    "qsvc_model = QSVC(quantum_kernel=kernel)\n",
    "qsvc_model.fit(X_train_scaled, y_train)\n",
    "y_pred_qsvc = qsvc_model.predict(X_test_scaled)\n",
    "accuracy_qsvc = accuracy_score(y_test, y_pred_qsvc)\n",
    "print(f\"QSVC Accuracy: {accuracy_qsvc * 100:.2f}%\")"
   ]
  },
  {
   "cell_type": "markdown",
   "id": "df547544",
   "metadata": {},
   "source": [
    "2. Classical Models"
   ]
  },
  {
   "cell_type": "code",
   "execution_count": 6,
   "id": "6031f026",
   "metadata": {},
   "outputs": [
    {
     "name": "stdout",
     "output_type": "stream",
     "text": [
      "\n",
      "--- Training Classical SVM ---\n",
      "Classical SVM Accuracy: 33.33%\n"
     ]
    }
   ],
   "source": [
    "# --- 5. Classical Models ---\n",
    "print(\"\\n--- Training Classical SVM ---\")\n",
    "classical_svm = SVC(kernel='rbf', random_state=42)\n",
    "classical_svm.fit(X_train_scaled, y_train)\n",
    "y_pred_svm = classical_svm.predict(X_test_scaled)\n",
    "accuracy_svm = accuracy_score(y_test, y_pred_svm)\n",
    "print(f\"Classical SVM Accuracy: {accuracy_svm * 100:.2f}%\")"
   ]
  },
  {
   "cell_type": "markdown",
   "id": "b6cb4815",
   "metadata": {},
   "source": [
    "3. Training Random Forest"
   ]
  },
  {
   "cell_type": "code",
   "execution_count": 7,
   "id": "8cbeedc9",
   "metadata": {},
   "outputs": [
    {
     "name": "stdout",
     "output_type": "stream",
     "text": [
      "\n",
      "--- Training Random Forest ---\n",
      "Random Forest Accuracy: 66.67%\n"
     ]
    }
   ],
   "source": [
    "print(\"\\n--- Training Random Forest ---\")\n",
    "rf_model = RandomForestClassifier(n_estimators=100, random_state=42)\n",
    "rf_model.fit(X_train_scaled, y_train)\n",
    "y_pred_rf = rf_model.predict(X_test_scaled)\n",
    "accuracy_rf = accuracy_score(y_test, y_pred_rf)\n",
    "print(f\"Random Forest Accuracy: {accuracy_rf * 100:.2f}%\")"
   ]
  },
  {
   "cell_type": "markdown",
   "id": "b2ef80b5",
   "metadata": {},
   "source": [
    "__Comparing the MOdel Perfromance__"
   ]
  },
  {
   "cell_type": "code",
   "execution_count": 8,
   "id": "7bafa2b0",
   "metadata": {},
   "outputs": [
    {
     "name": "stdout",
     "output_type": "stream",
     "text": [
      "\n",
      "--- Model Performance Comparison ---\n",
      "QSVC Accuracy:          66.67%\n",
      "Classical SVM Accuracy: 33.33%\n",
      "Random Forest Accuracy: 66.67%\n"
     ]
    }
   ],
   "source": [
    "\n",
    "# --- 6. Results ---\n",
    "print(\"\\n--- Model Performance Comparison ---\")\n",
    "print(f\"QSVC Accuracy:          {accuracy_qsvc * 100:.2f}%\")\n",
    "print(f\"Classical SVM Accuracy: {accuracy_svm * 100:.2f}%\")\n",
    "print(f\"Random Forest Accuracy: {accuracy_rf * 100:.2f}%\")"
   ]
  },
  {
   "cell_type": "code",
   "execution_count": null,
   "id": "407c4db1",
   "metadata": {},
   "outputs": [],
   "source": []
  }
 ],
 "metadata": {
  "kernelspec": {
   "display_name": "qiskit_env",
   "language": "python",
   "name": "python3"
  },
  "language_info": {
   "codemirror_mode": {
    "name": "ipython",
    "version": 3
   },
   "file_extension": ".py",
   "mimetype": "text/x-python",
   "name": "python",
   "nbconvert_exporter": "python",
   "pygments_lexer": "ipython3",
   "version": "3.13.1"
  }
 },
 "nbformat": 4,
 "nbformat_minor": 5
}
